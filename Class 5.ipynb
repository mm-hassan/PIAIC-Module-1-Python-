{
 "cells": [
  {
   "cell_type": "markdown",
   "metadata": {},
   "source": [
    "Enter 10 cities then print those cities containing k in it and also print cities not containing k in it"
   ]
  },
  {
   "cell_type": "code",
   "execution_count": 12,
   "metadata": {},
   "outputs": [
    {
     "name": "stdout",
     "output_type": "stream",
     "text": [
      "City with k are karachi\n",
      "City with k are sukkur\n",
      "City with k are larkana\n",
      "City without k are lahore\n",
      "City without k are hyderabad\n",
      "City without k are faislabad\n",
      "City without k are islamabad\n",
      "City without k are rawalpindi\n",
      "City without k are peshawar\n",
      "City without k are quetta\n"
     ]
    }
   ],
   "source": [
    "ls_cities=[\"karachi\",\"lahore\", \"hyderabad\",\"faislabad\",\"islamabad\",\"rawalpindi\",\"peshawar\",\"sukkur\",\"quetta\",\"larkana\"]\n",
    "for i in ls_cities:\n",
    "    if 'k' in i:\n",
    "        print(\"City with k are\",i)\n",
    "        \n",
    "for i in ls_cities:\n",
    "    if 'k' not in i:\n",
    "        print(\"City without k are\",i)"
   ]
  },
  {
   "cell_type": "markdown",
   "metadata": {},
   "source": [
    "Print cities with k are one of the best cities."
   ]
  },
  {
   "cell_type": "code",
   "execution_count": 18,
   "metadata": {},
   "outputs": [
    {
     "name": "stdout",
     "output_type": "stream",
     "text": [
      "karachi is one of the cleanest cities\n",
      "sukkur is one of the cleanest cities\n",
      "larkana is one of the cleanest cities\n"
     ]
    }
   ],
   "source": [
    "ls_cities=[\"karachi\",\"lahore\", \"hyderabad\",\"faislabad\",\"islamabad\",\"rawalpindi\",\"peshawar\",\"sukkur\",\"quetta\",\"larkana\"]\n",
    "for i in ls_cities:\n",
    "    if 'k' in i:\n",
    "        print(i,\"is one of the cleanest cities\")\n",
    "    "
   ]
  },
  {
   "cell_type": "markdown",
   "metadata": {},
   "source": [
    "Print list of student names, ages, and marks and then print information with the help of student names."
   ]
  },
  {
   "cell_type": "code",
   "execution_count": 28,
   "metadata": {},
   "outputs": [
    {
     "name": "stdout",
     "output_type": "stream",
     "text": [
      "Index of Asad is 3\n",
      "Marks of Asad is 60\n",
      "Age of Asad is 14.9\n"
     ]
    }
   ],
   "source": [
    "student_names=[\"arif\",\"kamran\",\"sarman\",\"asad\",\"imran\",\"sameer\",\"nasir\",\"rafeeq\",\"rasheed\",\"fareed\"]\n",
    "student_marks=[70,80,90,60,65,67,100,99,77,55]\n",
    "student_ages=[15.6,16.7,15.8,14.9,16.0,14.1,13.2,16.5,19.2,14.4]\n",
    "index=student_names.index(\"asad\")\n",
    "print(\"Index of Asad is\",index)\n",
    "print(\"Marks of Asad is\",student_marks[index])\n",
    "print(\"Age of Asad is\",student_ages[index])"
   ]
  },
  {
   "cell_type": "markdown",
   "metadata": {},
   "source": [
    "Now do above program by taking input by user."
   ]
  },
  {
   "cell_type": "code",
   "execution_count": 50,
   "metadata": {
    "scrolled": true
   },
   "outputs": [
    {
     "name": "stdout",
     "output_type": "stream",
     "text": [
      "Enter name from above list: arif\n",
      "Name doesnot exist in list. Please check your splling and try again!\n",
      "Index of arif is 0\n",
      "Marks of Asad arif is 70\n",
      "Age of Asad arif is 15.6\n"
     ]
    }
   ],
   "source": [
    "student_names=[\"arif\",\"kamran\",\"sarman\",\"asad\",\"imran\",\"sameer\",\"nasir\",\"rafeeq\",\"rasheed\",\"fareed\"]\n",
    "student_marks=[70,80,90,60,65,67,100,99,77,55]\n",
    "student_ages=[15.6,16.7,15.8,14.9,16.0,14.1,13.2,16.5,19.2,14.4]\n",
    "input_st_name=input(\"Enter name from above list: \")\n",
    "if input_st_name!=student_names:\n",
    "    print(\"Name doesnot exist in list. Please check your splling and try again!\")\n",
    "index=student_names.index(input_st_name)\n",
    "print(\"Index of\",input_st_name,\"is\",index)\n",
    "print(\"Marks of Asad\",input_st_name,\"is\",student_marks[index])\n",
    "print(\"Age of Asad\",input_st_name,\"is\",student_ages[index])"
   ]
  },
  {
   "cell_type": "code",
   "execution_count": 34,
   "metadata": {},
   "outputs": [
    {
     "name": "stdout",
     "output_type": "stream",
     "text": [
      "2\n",
      "student info: 90 15.8\n"
     ]
    }
   ],
   "source": [
    "student_names=[\"arif\",\"kamran\",\"sarman\",\"asad\",\"imran\",\"sameer\",\"nasir\",\"rafeeq\",\"rasheed\",\"fareed\"]\n",
    "student_marks=[70,80,90,60,65,67,100,99,77,55]\n",
    "student_ages=[15.6,16.7,15.8,14.9,16.0,14.1,13.2,16.5,19.2,14.4]\n",
    "loc=student_names.index('sarman')\n",
    "print(loc)\n",
    "student_mark=student_marks[loc]\n",
    "student_age=student_ages[loc]\n",
    "print(\"student info:\",student_mark,student_age)"
   ]
  },
  {
   "cell_type": "code",
   "execution_count": null,
   "metadata": {},
   "outputs": [],
   "source": []
  }
 ],
 "metadata": {
  "kernelspec": {
   "display_name": "Python 3",
   "language": "python",
   "name": "python3"
  },
  "language_info": {
   "codemirror_mode": {
    "name": "ipython",
    "version": 3
   },
   "file_extension": ".py",
   "mimetype": "text/x-python",
   "name": "python",
   "nbconvert_exporter": "python",
   "pygments_lexer": "ipython3",
   "version": "3.8.10"
  }
 },
 "nbformat": 4,
 "nbformat_minor": 4
}

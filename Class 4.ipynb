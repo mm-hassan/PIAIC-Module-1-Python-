{
 "cells": [
  {
   "cell_type": "markdown",
   "metadata": {},
   "source": [
    "Make a list"
   ]
  },
  {
   "cell_type": "code",
   "execution_count": 24,
   "metadata": {},
   "outputs": [
    {
     "name": "stdout",
     "output_type": "stream",
     "text": [
      "['A', 'A', 'A', 'B', 'C', 'A', 'D', 'D', 'E']\n"
     ]
    }
   ],
   "source": [
    "ls=list(\"AAABCADDE\")\n",
    "print(ls)"
   ]
  },
  {
   "cell_type": "markdown",
   "metadata": {},
   "source": [
    "Print first three elements, three mid elements, last three elements, first five elements and last five elements of list"
   ]
  },
  {
   "cell_type": "code",
   "execution_count": 27,
   "metadata": {},
   "outputs": [
    {
     "name": "stdout",
     "output_type": "stream",
     "text": [
      "['A', 'A', 'A', 'B', 'C', 'A', 'D', 'D', 'E']\n",
      "['A', 'A', 'A']\n",
      "['B', 'C', 'A']\n",
      "['D', 'D', 'E']\n",
      "['A', 'A', 'A', 'B', 'C'] ['A', 'D', 'D', 'E']\n"
     ]
    }
   ],
   "source": [
    "ls1=ls[0:3]\n",
    "ls2=ls[3:6]\n",
    "ls3=ls[6:9]\n",
    "print(ls)\n",
    "print(ls1)\n",
    "print(ls2)\n",
    "print(ls3)\n",
    "ls4=ls[0:5]\n",
    "ls5=ls[5:]\n",
    "print(ls4,ls5)"
   ]
  },
  {
   "cell_type": "markdown",
   "metadata": {},
   "source": [
    "Check any city in a list if it contains 'k' in it print that city name if not so print not found"
   ]
  },
  {
   "cell_type": "code",
   "execution_count": 39,
   "metadata": {},
   "outputs": [
    {
     "name": "stdout",
     "output_type": "stream",
     "text": [
      "['karachi', 'lahore', 'hyderabad', 'faislabad', 'islamabad', 'rawalpindi', 'peshawar', 'sukkur', 'quetta', 'larkana']\n",
      "karachi\n"
     ]
    }
   ],
   "source": [
    "ls_cities=[\"karachi\",\"lahore\", \"hyderabad\",\"faislabad\",\"islamabad\",\"rawalpindi\",\"peshawar\",\"sukkur\",\"quetta\",\"larkana\"]\n",
    "print (ls_cities)\n",
    "if 'k' in ls_cities[0]:\n",
    "    print (ls_cities[0])\n",
    "else:\n",
    "    print(\"not found\")"
   ]
  },
  {
   "cell_type": "markdown",
   "metadata": {},
   "source": [
    "Print cities with 'k' is one of cleanest city and cities without 'k' is not cleanest city."
   ]
  },
  {
   "cell_type": "code",
   "execution_count": 23,
   "metadata": {},
   "outputs": [
    {
     "name": "stdout",
     "output_type": "stream",
     "text": [
      "karachi is one of the cleanest city\n",
      "lahore is not cleanest city\n",
      "hyderabad is not cleanest city\n",
      "faislabad is not cleanest city\n",
      "islamabad is not cleanest city\n",
      "rawalpindi is not cleanest city\n",
      "peshawar is not cleanest city\n",
      "sukkur is one of the cleanest city\n",
      "quetta is not cleanest city\n",
      "larkana is one of the cleanest city\n"
     ]
    }
   ],
   "source": [
    "ls_cities=[\"karachi\",\"lahore\", \"hyderabad\",\"faislabad\",\"islamabad\",\"rawalpindi\",\"peshawar\",\"sukkur\",\"quetta\",\"larkana\"]\n",
    "for i in ls_cities:\n",
    "    if 'k' in i:\n",
    "        print(i,\"is one of the cleanest city\")\n",
    "    elif 'k' not in i:\n",
    "        print(i,\"is not cleanest city\")"
   ]
  },
  {
   "cell_type": "code",
   "execution_count": null,
   "metadata": {},
   "outputs": [],
   "source": []
  },
  {
   "cell_type": "code",
   "execution_count": 2,
   "metadata": {},
   "outputs": [],
   "source": [
    "ls_cities=[\"karachi\",\"lahore\", \"hyderabad\",\"faislabad\",\"islamabad\",\"rawalpindi\",\"peshawar\",\"sukkur\",\"quetta\",\"larkana\"]\n",
    "for i in ls_cities:\n",
    "    if 'k' == i:\n",
    "        print(\"It's one of the cleanest cities\")"
   ]
  },
  {
   "cell_type": "code",
   "execution_count": null,
   "metadata": {},
   "outputs": [],
   "source": []
  },
  {
   "cell_type": "code",
   "execution_count": null,
   "metadata": {},
   "outputs": [],
   "source": []
  },
  {
   "cell_type": "code",
   "execution_count": null,
   "metadata": {},
   "outputs": [],
   "source": []
  },
  {
   "cell_type": "code",
   "execution_count": null,
   "metadata": {},
   "outputs": [],
   "source": []
  },
  {
   "cell_type": "code",
   "execution_count": null,
   "metadata": {},
   "outputs": [],
   "source": []
  },
  {
   "cell_type": "code",
   "execution_count": null,
   "metadata": {},
   "outputs": [],
   "source": []
  },
  {
   "cell_type": "code",
   "execution_count": null,
   "metadata": {},
   "outputs": [],
   "source": []
  },
  {
   "cell_type": "code",
   "execution_count": null,
   "metadata": {},
   "outputs": [],
   "source": []
  },
  {
   "cell_type": "code",
   "execution_count": null,
   "metadata": {},
   "outputs": [],
   "source": []
  }
 ],
 "metadata": {
  "kernelspec": {
   "display_name": "Python 3",
   "language": "python",
   "name": "python3"
  },
  "language_info": {
   "codemirror_mode": {
    "name": "ipython",
    "version": 3
   },
   "file_extension": ".py",
   "mimetype": "text/x-python",
   "name": "python",
   "nbconvert_exporter": "python",
   "pygments_lexer": "ipython3",
   "version": "3.8.10"
  }
 },
 "nbformat": 4,
 "nbformat_minor": 4
}
